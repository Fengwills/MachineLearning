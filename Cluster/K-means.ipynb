{
 "cells": [
  {
   "cell_type": "markdown",
   "metadata": {},
   "source": [
    "# K-means Clustering"
   ]
  },
  {
   "cell_type": "markdown",
   "metadata": {},
   "source": [
    "<p style=\"font-size:15px; font-family:verdana\"> K-means is one of the simplest unsupervised learning algorithm used for clustering problem. Clustering is a process that finds groups of similar objects. So, in clustering our goal is to group objects based on their features similarity. K-means clutering is very easy to understand, very easy to implement and computationally efficient clutering algorithm. Now, let us see how it works.</p>\n",
    "<p style=\"font-size:15px; font-family:verdana\"> Basic idea behind K-means is, we define <b> k centroids</b>, that is, one for each cluster. Here, k is the hyperparameter and we should be very careful about it. Usually, you should try range of values to determine best value of k. Where do we place them initially? Common choice is to place them as fas ar possible. Now, assign each data point to the nearest centroid. Once each data point has been assigned to one of the centroids, our next step is to recalculate k new centroids. How do we do that? We do it by moving centroid(old) to the center of the data samples that were assigned to it. And how do we do find center? We find it by taking the mean of data points in a particular cluster.</p>\n",
    "\n",
    "<p style=\"font-size:15px; font-family:verdana\"> K-means clutering aims to find positions $ \\mu_i $, i=1,2,..,k of the clusters the minimize the distance from the data points to the cluster. Mathematically, we can write this as:</p>\n",
    "![title](.\\images\\sed.png)"
   ]
  },
  {
   "cell_type": "code",
   "execution_count": 6,
   "metadata": {},
   "outputs": [
    {
     "data": {
      "text/plain": [
       "KMeans(algorithm='auto', copy_x=True, init='k-means++', max_iter=300,\n",
       "    n_clusters=10, n_init=10, n_jobs=1, precompute_distances='auto',\n",
       "    random_state=None, tol=0.0001, verbose=0)"
      ]
     },
     "execution_count": 6,
     "metadata": {},
     "output_type": "execute_result"
    }
   ],
   "source": [
    "from sklearn.datasets import load_digits\n",
    "from sklearn.cluster import KMeans\n",
    "from sklearn.preprocessing import StandardScaler\n",
    "\n",
    "digits = load_digits()\n",
    "dataset = digits.data\n",
    "\n",
    "#standardize\n",
    "ss = StandardScaler()\n",
    "dataset = ss.fit_transform(dataset)\n",
    "\n",
    "model = KMeans(n_clusters= 10, init=\"k-means++\", n_init=10)\n",
    "model.fit(dataset)\n"
   ]
  },
  {
   "cell_type": "code",
   "execution_count": 7,
   "metadata": {},
   "outputs": [
    {
     "data": {
      "text/plain": [
       "array([0, 9, 9, ..., 9, 3, 3])"
      ]
     },
     "execution_count": 7,
     "metadata": {},
     "output_type": "execute_result"
    }
   ],
   "source": [
    "model.labels_   #assigned label(cluster) to each data point"
   ]
  },
  {
   "cell_type": "code",
   "execution_count": 8,
   "metadata": {},
   "outputs": [
    {
     "data": {
      "text/plain": [
       "69422.941195144551"
      ]
     },
     "execution_count": 8,
     "metadata": {},
     "output_type": "execute_result"
    }
   ],
   "source": [
    "model.inertia_  #sum of distances of samples to their closest centroid"
   ]
  },
  {
   "cell_type": "code",
   "execution_count": 9,
   "metadata": {},
   "outputs": [
    {
     "data": {
      "text/plain": [
       "array([[  0.00000000e+00,  -3.10238752e-01,  -2.06177764e-01,\n",
       "          3.03168840e-01,  -1.40191740e-01,  -5.03966912e-01,\n",
       "         -3.99585759e-01,  -1.25022923e-01,  -5.90775571e-02,\n",
       "         -3.46211086e-01,   4.17672645e-01,   3.49905412e-01,\n",
       "          2.38843406e-01,   5.24264003e-01,  -2.45478180e-01,\n",
       "         -1.30433381e-01,  -4.46250733e-02,   3.20429312e-01,\n",
       "          7.71457454e-01,  -2.98969956e-01,  -8.06601146e-01,\n",
       "          6.93198664e-01,   5.32051362e-01,  -1.14221844e-01,\n",
       "         -3.33797263e-02,   9.07972853e-01,   5.85143100e-01,\n",
       "         -1.15219864e+00,  -1.57661191e+00,   2.57254863e-01,\n",
       "          1.12870850e+00,  -4.72323823e-02,   0.00000000e+00,\n",
       "          1.02784152e+00,   6.15056355e-01,  -1.30867433e+00,\n",
       "         -1.73098189e+00,   5.32680477e-03,   1.20443628e+00,\n",
       "          0.00000000e+00,  -6.13436689e-02,   6.54131511e-01,\n",
       "          9.81663232e-01,  -8.72074591e-01,  -9.95308509e-01,\n",
       "          5.43552357e-01,   5.58944660e-01,  -8.87416172e-02,\n",
       "         -3.54332626e-02,   5.98517672e-02,   9.90363911e-01,\n",
       "          7.42005066e-02,   1.70542961e-01,   7.50982414e-01,\n",
       "         -2.66237735e-01,  -2.09785127e-01,  -2.35964589e-02,\n",
       "         -2.93066651e-01,  -2.70076231e-01,   3.39317333e-01,\n",
       "          3.10906680e-01,  -2.21901899e-01,  -4.38354242e-01,\n",
       "         -1.96007519e-01],\n",
       "       [  0.00000000e+00,  -2.48778896e-01,  -3.13284386e-02,\n",
       "          3.39832350e-01,   5.99812732e-01,   9.35938069e-01,\n",
       "          8.99193990e-01,   1.38929014e-01,  -5.90775571e-02,\n",
       "         -3.30279093e-01,   1.00567490e-01,  -1.71842521e-01,\n",
       "          2.56998894e-02,   7.56591107e-01,   7.90766582e-01,\n",
       "         -6.29367542e-02,  -4.46250733e-02,  -4.44824847e-01,\n",
       "         -8.49075514e-01,  -8.62592381e-01,   3.66182329e-02,\n",
       "          6.91304073e-01,   2.39737629e-01,  -1.01480897e-01,\n",
       "         -3.33797263e-02,  -4.95622131e-01,  -7.40331236e-01,\n",
       "         -3.50533492e-01,   4.84185824e-01,   7.63431257e-01,\n",
       "          6.39878057e-01,  -4.72323823e-02,   0.00000000e+00,\n",
       "         -2.53306066e-01,   1.79860699e-01,   7.13318185e-01,\n",
       "          7.80760752e-01,   3.31083390e-01,   3.35288112e-01,\n",
       "          0.00000000e+00,  -6.13436689e-02,  -1.67713548e-01,\n",
       "         -2.69907308e-01,   6.90699724e-01,   5.46958552e-01,\n",
       "         -7.81320934e-01,  -6.58921821e-01,  -8.87416172e-02,\n",
       "         -3.54332626e-02,  -3.74772625e-01,  -8.15521711e-01,\n",
       "          5.81033571e-01,  -6.16048738e-01,  -1.37385503e+00,\n",
       "         -7.56299870e-01,  -2.09785127e-01,  -2.35964589e-02,\n",
       "         -2.39270403e-01,   1.67753635e-01,   4.60652992e-02,\n",
       "         -1.92748243e+00,  -1.10687162e+00,  -5.02937578e-01,\n",
       "         -1.96007519e-01],\n",
       "       [  0.00000000e+00,  -3.35016487e-01,  -8.46210715e-01,\n",
       "         -1.59056185e-01,  -5.22688625e-01,  -7.37822792e-01,\n",
       "         -3.89783668e-01,  -1.25022923e-01,  -5.90775571e-02,\n",
       "         -6.06718516e-01,  -5.92447335e-01,   6.42912808e-01,\n",
       "         -8.74210689e-01,  -1.19770976e+00,  -4.99581795e-01,\n",
       "         -1.30433381e-01,  -4.46250733e-02,  -5.14397141e-01,\n",
       "          4.54022264e-01,   4.11727360e-01,  -1.00915576e+00,\n",
       "         -1.22966332e+00,  -5.47110181e-01,  -1.14221844e-01,\n",
       "         -3.33797263e-02,  -3.16327985e-02,   7.24247900e-01,\n",
       "         -1.41536524e-01,  -9.79865866e-01,  -9.44647267e-01,\n",
       "         -6.00412809e-01,  -4.72323823e-02,   0.00000000e+00,\n",
       "          3.31165374e-01,   1.09505245e+00,   6.06567113e-01,\n",
       "          3.30092354e-01,   2.94959312e-01,  -3.21559847e-02,\n",
       "          0.00000000e+00,  -6.13436689e-02,   9.51539446e-02,\n",
       "          1.16095274e+00,   5.20523051e-01,  -3.74936250e-01,\n",
       "          3.51437353e-01,   1.35310502e+00,   6.66437638e-01,\n",
       "         -3.54332626e-02,  -2.95968375e-01,   4.79004872e-01,\n",
       "          5.68186611e-01,  -7.91471944e-01,   4.08411624e-01,\n",
       "          1.47024181e+00,   3.23542269e-01,  -2.35964589e-02,\n",
       "         -2.99081347e-01,  -8.01313959e-01,  -3.07119724e-01,\n",
       "          6.61459243e-01,   1.07772785e+00,   6.22429399e-01,\n",
       "         -1.45500719e-01],\n",
       "       [  0.00000000e+00,  -1.24305799e-02,   4.96215806e-01,\n",
       "          3.53110675e-01,   2.25110973e-01,   1.45186407e-01,\n",
       "         -1.86854539e-01,  -1.20398307e-01,   1.72982487e-02,\n",
       "          3.95933280e-01,   6.05534479e-01,  -7.50472654e-01,\n",
       "         -9.00234554e-02,   3.84274417e-01,  -1.27052264e-01,\n",
       "         -1.21741369e-01,  -6.16403890e-03,   2.41565240e-01,\n",
       "         -6.89695804e-02,  -4.91924477e-01,   2.35053016e-01,\n",
       "          3.32778512e-01,  -1.43356518e-01,  -1.14221844e-01,\n",
       "         -3.33797263e-02,  -2.47650723e-01,  -2.89404192e-01,\n",
       "          3.47192052e-01,   5.98664065e-01,   3.64367477e-01,\n",
       "         -1.98137481e-01,  -4.72323823e-02,   0.00000000e+00,\n",
       "         -5.71745867e-01,  -7.98446331e-01,  -5.56382786e-01,\n",
       "         -3.04325677e-01,   5.38022381e-01,   2.05355506e-01,\n",
       "          0.00000000e+00,  -6.13436689e-02,  -4.21073208e-01,\n",
       "         -7.57850219e-01,  -9.31789899e-01,  -8.72707166e-01,\n",
       "          6.00317179e-01,   6.83862309e-01,  -5.75237469e-02,\n",
       "         -3.54332626e-02,   7.44843465e-02,   4.40267471e-02,\n",
       "         -7.47974689e-01,  -5.86595988e-01,   6.69258586e-01,\n",
       "          4.13314571e-01,  -1.51302880e-01,  -2.35964589e-02,\n",
       "         -5.26086224e-02,   4.53369124e-01,   4.59424900e-01,\n",
       "          4.75279385e-01,   3.91235600e-01,  -9.28352914e-02,\n",
       "         -1.80532731e-01],\n",
       "       [  0.00000000e+00,  -3.35016487e-01,  -1.02349003e+00,\n",
       "         -1.08368694e+00,  -2.70686387e-03,  -6.73153100e-01,\n",
       "         -3.77566606e-01,  -1.25022923e-01,  -5.90775571e-02,\n",
       "         -6.22040945e-01,  -1.30752320e+00,   4.27477083e-01,\n",
       "         -3.59648672e-01,  -1.08398573e+00,  -3.69394370e-01,\n",
       "         -1.07637350e-01,  -4.46250733e-02,  -5.71086697e-01,\n",
       "          1.15407860e-01,   7.82932031e-01,  -3.97866477e-01,\n",
       "         -4.28594764e-01,   4.52786577e-01,   2.15680534e-01,\n",
       "         -3.33797263e-02,   6.86425522e-01,   8.89489684e-01,\n",
       "         -5.12869232e-01,  -4.98418812e-01,   4.78121868e-01,\n",
       "          9.85484363e-01,   8.62213771e-02,   0.00000000e+00,\n",
       "          1.90343228e+00,   1.12191439e+00,   2.06604193e-02,\n",
       "          4.16729297e-01,   9.40555466e-01,   7.61949372e-01,\n",
       "          0.00000000e+00,   6.31955533e-01,   1.78739457e+00,\n",
       "          8.30262341e-01,   8.71889915e-01,   1.16596208e+00,\n",
       "          4.48888962e-01,  -3.94454641e-01,  -8.87416172e-02,\n",
       "          2.72614986e-01,   2.95370360e-01,  -7.50765880e-01,\n",
       "         -2.77711921e-01,   8.65951660e-01,  -7.79816114e-01,\n",
       "         -7.52320510e-01,  -2.09785127e-01,  -2.35964589e-02,\n",
       "         -2.72147614e-01,  -1.00678474e+00,  -9.40714876e-01,\n",
       "          8.20484658e-02,  -8.47054070e-01,  -5.05669803e-01,\n",
       "         -1.96007519e-01],\n",
       "       [  0.00000000e+00,  -3.35016487e-01,  -8.62803144e-01,\n",
       "         -8.13748649e-01,   1.07849667e-01,   7.20269184e-01,\n",
       "          2.71201430e+00,   5.49412561e+00,  -5.90775571e-02,\n",
       "         -6.24009262e-01,  -8.14913254e-01,   6.38217592e-01,\n",
       "         -2.31512181e-01,  -1.60123608e-01,   3.34172841e+00,\n",
       "          6.82707232e+00,  -4.46250733e-02,  -6.11909866e-01,\n",
       "          1.09585655e-02,   1.37964360e-01,  -9.54168284e-01,\n",
       "         -1.32684507e-02,   3.53542215e+00,   4.84024910e+00,\n",
       "         -3.33797263e-02,  -6.16118082e-02,   3.19483322e-01,\n",
       "         -3.56593140e-01,  -4.53495445e-01,   1.15711870e+00,\n",
       "          1.52310111e+00,   2.14785187e+00,   0.00000000e+00,\n",
       "          7.09179688e-02,   1.56248714e-01,  -6.09785663e-02,\n",
       "          2.74690644e-01,   8.30918431e-01,   1.13409990e-01,\n",
       "          0.00000000e+00,  -6.13436689e-02,  -3.69338169e-01,\n",
       "         -6.62431970e-01,  -3.35299947e-01,   7.13624800e-01,\n",
       "         -1.50545088e-01,  -6.94738263e-01,  -8.87416172e-02,\n",
       "         -3.54332626e-02,  -4.03574986e-01,  -1.26311183e+00,\n",
       "         -4.26541030e-01,   5.06963863e-01,  -1.05799840e+00,\n",
       "         -7.57435810e-01,  -2.09785127e-01,  -2.35964589e-02,\n",
       "         -2.99081347e-01,  -8.39292479e-01,  -3.19970182e-01,\n",
       "         -8.00202306e-01,  -1.04727319e+00,  -5.05669803e-01,\n",
       "         -1.96007519e-01],\n",
       "       [  0.00000000e+00,   2.59745481e+00,   1.76223182e+00,\n",
       "          6.64774795e-01,  -4.17933058e-01,  -6.16494880e-02,\n",
       "          7.87533419e-02,  -1.11345865e-01,   9.15073651e-02,\n",
       "          1.83751850e+00,   7.56458635e-01,  -1.23238110e-01,\n",
       "          1.31437143e-01,  -5.23650986e-01,  -2.08382876e-01,\n",
       "         -1.30433381e-01,  -4.46250733e-02,   9.54499054e-01,\n",
       "         -2.48508472e-01,  -2.88502541e-01,   3.85039272e-01,\n",
       "         -7.64320498e-01,  -4.59580706e-01,  -1.14221844e-01,\n",
       "         -3.33797263e-02,  -3.00366196e-01,  -5.92172043e-01,\n",
       "          1.06343772e-01,   1.17940916e-01,  -8.77939124e-01,\n",
       "         -5.38449632e-01,  -4.72323823e-02,   0.00000000e+00,\n",
       "         -5.35803675e-01,  -5.56433248e-01,   4.06155802e-01,\n",
       "         -1.32148445e-01,  -1.14183825e+00,  -7.72555939e-01,\n",
       "          0.00000000e+00,  -6.13436689e-02,  -3.64743958e-01,\n",
       "         -2.35772902e-01,   4.99822651e-01,  -9.38233839e-02,\n",
       "         -8.67348714e-01,  -5.78777939e-01,  -6.56603194e-02,\n",
       "         -3.54332626e-02,   7.86809120e-01,   6.34094933e-01,\n",
       "          4.26127321e-01,   2.06466167e-01,  -9.52137793e-02,\n",
       "          1.78473542e-01,  -1.01686293e-01,  -2.35964589e-02,\n",
       "          2.45718511e+00,   1.77858141e+00,   4.14240682e-01,\n",
       "         -3.15009378e-01,   7.12573899e-02,   4.23906552e-01,\n",
       "         -1.27358727e-01],\n",
       "       [  0.00000000e+00,  -3.35016487e-01,  -1.06142639e+00,\n",
       "         -2.22808729e+00,  -1.19405897e-01,   1.15234938e+00,\n",
       "          6.89533970e-01,  -6.52917010e-02,  -5.90775571e-02,\n",
       "         -5.99083045e-01,  -1.39635030e+00,  -6.62472010e-01,\n",
       "          5.83818835e-01,   7.24090881e-01,   8.42558957e-01,\n",
       "         -6.62817197e-02,  -4.46250733e-02,  -3.06864184e-01,\n",
       "         -2.55193837e-01,   7.91461457e-01,   5.91879737e-01,\n",
       "          7.68292004e-01,   5.42806384e-01,  -5.36741585e-02,\n",
       "         -3.33797263e-02,   2.50175252e-01,   3.19779097e-01,\n",
       "          4.50182422e-01,   4.52144990e-01,   8.30074835e-01,\n",
       "         -1.10230658e-01,  -4.72323823e-02,   0.00000000e+00,\n",
       "         -1.45885982e-01,  -1.12522397e-01,  -1.30077403e-01,\n",
       "          3.45991942e-01,   4.22084725e-01,  -4.07280882e-01,\n",
       "          0.00000000e+00,  -6.13436689e-02,  -1.48325993e-01,\n",
       "         -5.16672955e-01,  -4.00979306e-01,   6.06732962e-01,\n",
       "          5.22640429e-01,  -5.50960638e-01,  -8.87416172e-02,\n",
       "         -3.54332626e-02,  -3.12325028e-01,  -1.09666027e+00,\n",
       "         -9.93992178e-01,   4.87447430e-01,   4.27532474e-01,\n",
       "         -4.17347610e-01,  -2.09785127e-01,  -2.35964589e-02,\n",
       "         -2.99081347e-01,  -1.07724044e+00,  -2.16725014e+00,\n",
       "         -5.81851197e-02,   6.16068959e-01,  -2.52577194e-02,\n",
       "         -1.86489840e-01],\n",
       "       [  0.00000000e+00,  -2.81878694e-01,   4.15680198e-01,\n",
       "          4.83967410e-01,  -9.87734433e-01,  -8.14353670e-01,\n",
       "         -4.09723921e-01,  -1.25022923e-01,  -5.90775571e-02,\n",
       "          5.68637408e-03,   2.22891039e-01,   2.35450182e-01,\n",
       "         -8.36241725e-02,  -6.56230127e-01,  -4.84747673e-01,\n",
       "         -1.30433381e-01,   1.48606871e-01,   3.39365112e-02,\n",
       "         -1.29104164e-01,   5.73233568e-02,   3.29540951e-01,\n",
       "         -3.94618638e-01,  -4.41594170e-01,  -1.14221844e-01,\n",
       "         -3.33797263e-02,  -3.86774428e-01,  -7.48496986e-01,\n",
       "         -4.51038805e-01,   1.39183545e-01,  -3.85342932e-01,\n",
       "         -5.43898201e-01,  -4.72323823e-02,   0.00000000e+00,\n",
       "         -6.27356946e-01,  -9.97287657e-01,  -5.67083821e-01,\n",
       "          3.69592313e-01,  -6.95409357e-01,  -7.81810432e-01,\n",
       "          0.00000000e+00,  -6.13436689e-02,  -5.31284098e-01,\n",
       "         -8.99838950e-01,  -9.71721622e-02,   7.60894662e-01,\n",
       "         -6.69978513e-01,  -6.61922115e-01,  -1.03208225e-02,\n",
       "         -3.54332626e-02,  -3.20753739e-01,  -7.27584494e-02,\n",
       "          7.47594719e-01,   7.57934213e-01,   3.11812806e-01,\n",
       "          1.10930956e+00,   2.67944925e+00,  -2.35964589e-02,\n",
       "         -2.86182360e-01,   2.26056049e-01,   4.67246773e-01,\n",
       "          3.68444463e-01,   1.19600763e+00,   2.90602252e+00,\n",
       "          3.73020714e+00],\n",
       "       [  0.00000000e+00,  -2.41103400e-01,   4.18638061e-02,\n",
       "          2.54019654e-01,   2.20912153e-01,   8.63986708e-02,\n",
       "         -4.72872902e-02,  -1.12855951e-01,   1.08370976e-01,\n",
       "         -2.96766877e-02,   8.37016137e-02,   4.77201595e-01,\n",
       "          4.25842719e-01,   1.61738708e-01,  -5.74654332e-02,\n",
       "         -1.11376762e-01,   1.07156485e-01,   6.55619377e-02,\n",
       "          5.41702554e-02,   4.92836779e-01,   5.17562235e-01,\n",
       "         -1.29638727e-01,  -3.57147637e-01,  -1.14221844e-01,\n",
       "          1.55842255e-01,  -7.91095463e-02,  -7.33467140e-02,\n",
       "          6.69193759e-01,   4.25255948e-01,  -6.65643656e-01,\n",
       "         -6.04073094e-01,  -4.72323823e-02,   0.00000000e+00,\n",
       "         -3.77713577e-01,  -5.01453528e-02,   7.27019421e-01,\n",
       "          3.47474403e-01,  -1.07437673e+00,  -8.16450127e-01,\n",
       "          0.00000000e+00,  -6.13436689e-02,  -2.81541434e-01,\n",
       "          1.04043911e-01,   5.67602212e-01,   5.88241670e-01,\n",
       "         -6.90851159e-01,  -7.25414069e-01,  -8.87416172e-02,\n",
       "          1.09197388e-02,  -1.68581116e-02,   1.93030815e-01,\n",
       "          4.37109328e-01,   5.30892528e-01,  -4.63255290e-01,\n",
       "         -5.81042693e-01,  -2.06579673e-01,   1.10166433e-01,\n",
       "         -2.07893242e-01,   3.35405862e-02,   3.21536155e-01,\n",
       "          7.35914827e-03,  -4.24178630e-01,  -3.43675618e-01,\n",
       "         -1.96007519e-01]])"
      ]
     },
     "execution_count": 9,
     "metadata": {},
     "output_type": "execute_result"
    }
   ],
   "source": [
    "model.cluster_centers_\n"
   ]
  },
  {
   "cell_type": "code",
   "execution_count": 10,
   "metadata": {},
   "outputs": [
    {
     "data": {
      "text/plain": [
       "<matplotlib.image.AxesImage at 0x26a1d1031d0>"
      ]
     },
     "execution_count": 10,
     "metadata": {},
     "output_type": "execute_result"
    },
    {
     "data": {
      "image/png": "[encoded data removed]",
      "text/plain": [
       "<matplotlib.figure.Figure at 0x26a1b07c400>"
      ]
     },
     "metadata": {},
     "output_type": "display_data"
    }
   ],
   "source": [
    "import matplotlib.pyplot as plt\n",
    "%matplotlib inline\n",
    "plt.imshow(digits.images[1], cmap='gray')"
   ]
  },
  {
   "cell_type": "code",
   "execution_count": 11,
   "metadata": {},
   "outputs": [
    {
     "data": {
      "text/plain": [
       "array([9])"
      ]
     },
     "execution_count": 11,
     "metadata": {},
     "output_type": "execute_result"
    }
   ],
   "source": [
    "model.predict(dataset[1].reshape(1,-1)) #should be one"
   ]
  },
  {
   "cell_type": "code",
   "execution_count": 12,
   "metadata": {},
   "outputs": [
    {
     "data": {
      "text/plain": [
       "<matplotlib.image.AxesImage at 0x26a1d1b21d0>"
      ]
     },
     "execution_count": 12,
     "metadata": {},
     "output_type": "execute_result"
    },
    {
     "data": {
      "image/png": "[encoded data removed]",
      "text/plain": [
       "<matplotlib.figure.Figure at 0x26a1d11c550>"
      ]
     },
     "metadata": {},
     "output_type": "display_data"
    }
   ],
   "source": [
    "#lets try again\n",
    "plt.imshow(digits.images[333], cmap='gray')"
   ]
  },
  {
   "cell_type": "code",
   "execution_count": 13,
   "metadata": {},
   "outputs": [
    {
     "data": {
      "text/plain": [
       "array([6])"
      ]
     },
     "execution_count": 13,
     "metadata": {},
     "output_type": "execute_result"
    }
   ],
   "source": [
    "model.predict(dataset[333].reshape(1,-1))  #should be 2"
   ]
  },
  {
   "cell_type": "code",
   "execution_count": null,
   "metadata": {
    "collapsed": true
   },
   "outputs": [],
   "source": []
  }
 ],
 "metadata": {
  "anaconda-cloud": {},
  "kernelspec": {
   "display_name": "Python 3",
   "language": "python",
   "name": "python3"
  },
  "language_info": {
   "codemirror_mode": {
    "name": "ipython",
    "version": 3
   },
   "file_extension": ".py",
   "mimetype": "text/x-python",
   "name": "python",
   "nbconvert_exporter": "python",
   "pygments_lexer": "ipython3",
   "version": "3.6.5"
  }
 },
 "nbformat": 4,
 "nbformat_minor": 1
}
