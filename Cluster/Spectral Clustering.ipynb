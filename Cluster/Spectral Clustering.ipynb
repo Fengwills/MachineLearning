{
 "cells": [
  {
   "cell_type": "markdown",
   "metadata": {},
   "source": [
    "# Spectral clustering"
   ]
  },
  {
   "cell_type": "markdown",
   "metadata": {},
   "source": [
    "<p style=\"font-family:verdana; font-size:15px\">Spectral clustering techniques make use of the <b>spectrum (eigenvalues)</b> of the <b>Laplacian matrix</b> of the data to perform dimensionality reduction before clustering in fewer dimensions. The similarity matrix is provided as an input and consists of a quantitative assessment of the relative similarity of each pair of points in the dataset.\n",
    "</p>"
   ]
  },
  {
   "cell_type": "markdown",
   "metadata": {},
   "source": [
    "\n",
    "<p style=\"font-family:verdana; font-size:15px\">\n",
    "<b>Algorithm overview</b>  \n",
    "1) Define the affinity matrix (Laplacian matrix)  \n",
    "2) Identify eigenvalues and eigenvectors. (The corresponding eigenvector contains the cluster indicator for each data point)  \n",
    "3) K-means of transformed data  \n",
    "4) Project back to original space\n",
    "</p>"
   ]
  },
  {
   "cell_type": "markdown",
   "metadata": {},
   "source": [
    "<p style=\"font-family:verdana; font-size:15px\">How to constructe the <b>Laplacian matrix $L$</b> </p>"
   ]
  },
  {
   "cell_type": "markdown",
   "metadata": {},
   "source": [
    "\\begin{equation}\n",
    "L= D-W\n",
    "\\end{equation}\n",
    "<p style=\"font-family:verdana; font-size:15px\">where $D$ is degree matrix, $W$ is the similarity matrix. </p>"
   ]
  },
  {
   "cell_type": "markdown",
   "metadata": {},
   "source": [
    "<p style=\"font-family:verdana; font-size:15px\">\n",
    "<b>To understand why does it works</b>  \n",
    "\n",
    "Basic idea: cutting the edge with lowest weights  \n",
    "\n",
    "\\begin{equation}\n",
    "\\min Cut(C_1, C_2) = \\sum_{i \\in C_1} \\sum_{j\\in C_2} w_{ij}\n",
    "\\end{equation}\n",
    "\n",
    "Normailized minimaul cut:  \n",
    "\n",
    "\\begin{equation}\n",
    "\\min NCut(C_1,C_2) = \\min \\frac{ Cut(C_1, C_2)} {Vol(C_1)} + \\frac{ Cut(C_1, C_2)} {Vol(C_2)} = \\min (\\frac{1}{Vol(C_1)} + \\frac{1}{Vol(C_2)} ) Cut(C_1, C_2)\n",
    "\\end{equation}\n",
    "where $Vol(C) = \\sum_{i \\in C} D(x_i)$  \n",
    "\n",
    "\n",
    "\\begin{equation}\n",
    "NCut(A,B) = \\frac{y^{\\top} (D-W) y}{ y^{\\top} Dy}\n",
    "\\end{equation}\n",
    "\n",
    "\\begin{equation}\n",
    "\\min_y y^{\\top} (D-W) y\\ \\ subject\\ to\\ \\  y^{\\top} Dy = 1\n",
    "\\end{equation}\n",
    "\n",
    "Eigenvalues of the Laplacian are approximate solutions to mincut problem\n",
    "\n",
    "</p>\n"
   ]
  },
  {
   "cell_type": "code",
   "execution_count": null,
   "metadata": {},
   "outputs": [],
   "source": []
  },
  {
   "cell_type": "markdown",
   "metadata": {},
   "source": [
    "# Spectral clustering for image segmentation\n",
    "\n"
   ]
  },
  {
   "cell_type": "markdown",
   "metadata": {},
   "source": [
    "\n",
    "<p style=\"font-family:verdana; font-size:15px\">\n",
    "In this example, an image with connected circles is generated and\n",
    "spectral clustering is used to separate the circles.\n",
    "</p>\n",
    "\n",
    "<p style=\"font-family:verdana; font-size:15px\">\n",
    "In these settings, the <b>`spectral_clustering`</b> approach solves the problem\n",
    "know as <b>'normalized graph cuts'</b>: the image is seen as a graph of\n",
    "connected voxels, and the spectral clustering algorithm amounts to\n",
    "choosing graph cuts defining regions while minimizing the ratio of the\n",
    "gradient along the cut, and the volume of the region.\n",
    "</p>\n",
    "\n",
    "\n",
    "\n",
    "\n",
    "<p style=\"font-family:verdana; font-size:15px\">\n",
    "As the algorithm tries to balance the volume (ie balance the region\n",
    "sizes), if we take circles with different sizes, the segmentation fails.\n",
    "</p>\n",
    "\n",
    "\n",
    "<p style=\"font-family:verdana; font-size:15px\">\n",
    "In addition, as there is no useful information in the intensity of the image,\n",
    "or its gradient, we choose to perform the spectral clustering on a graph\n",
    "that is only weakly informed by the gradient. This is close to performing\n",
    "a Voronoi partition of the graph.\n",
    "</p>\n",
    "\n",
    "\n",
    "<p style=\"font-family:verdana; font-size:15px\">\n",
    "In addition, we use the mask of the objects to restrict the graph to the\n",
    "outline of the objects. In this example, we are interested in\n",
    "separating the objects one from the other, and not from the background.\n",
    "</p>\n"
   ]
  },
  {
   "cell_type": "code",
   "execution_count": null,
   "metadata": {},
   "outputs": [],
   "source": []
  },
  {
   "cell_type": "code",
   "execution_count": null,
   "metadata": {},
   "outputs": [],
   "source": []
  },
  {
   "cell_type": "code",
   "execution_count": null,
   "metadata": {},
   "outputs": [],
   "source": [
    "%matplotlib inline"
   ]
  },
  {
   "cell_type": "code",
   "execution_count": 6,
   "metadata": {},
   "outputs": [
    {
     "name": "stdout",
     "output_type": "stream",
     "text": [
      "Automatically created module for IPython interactive environment\n"
     ]
    }
   ],
   "source": [
    "print(__doc__)\n",
    "\n",
    "# Authors:  Emmanuelle Gouillart <emmanuelle.gouillart@normalesup.org>\n",
    "#           Gael Varoquaux <gael.varoquaux@normalesup.org>\n",
    "# License: BSD 3 clause\n",
    "\n",
    "import numpy as np\n",
    "import matplotlib.pyplot as plt\n",
    "\n",
    "from sklearn.feature_extraction import image\n",
    "from sklearn.cluster import spectral_clustering\n",
    "\n",
    "#crate circles\n",
    "\n",
    "l = 100\n",
    "x, y = np.indices((l, l))\n",
    "\n",
    "center1 = (28, 24)\n",
    "center2 = (40, 50)\n",
    "center3 = (67, 58)\n",
    "center4 = (24, 70)\n",
    "\n",
    "radius1, radius2, radius3, radius4 = 16, 14, 15, 14\n",
    "\n",
    "circle1 = (x - center1[0]) ** 2 + (y - center1[1]) ** 2 < radius1 ** 2\n",
    "circle2 = (x - center2[0]) ** 2 + (y - center2[1]) ** 2 < radius2 ** 2\n",
    "circle3 = (x - center3[0]) ** 2 + (y - center3[1]) ** 2 < radius3 ** 2\n",
    "circle4 = (x - center4[0]) ** 2 + (y - center4[1]) ** 2 < radius4 ** 2\n",
    "\n"
   ]
  },
  {
   "cell_type": "code",
   "execution_count": 4,
   "metadata": {},
   "outputs": [
    {
     "data": {
      "text/plain": [
       "<matplotlib.image.AxesImage at 0x1a1d8f2ba8>"
      ]
     },
     "execution_count": 4,
     "metadata": {},
     "output_type": "execute_result"
    },
    {
     "data": {
      "image/png": "[encoded data removed]",
      "text/plain": [
       "<Figure size 288x288 with 1 Axes>"
      ]
     },
     "metadata": {},
     "output_type": "display_data"
    },
    {
     "data": {
      "image/png": "[encoded data removed]",
      "text/plain": [
       "<Figure size 288x288 with 1 Axes>"
      ]
     },
     "metadata": {},
     "output_type": "display_data"
    }
   ],
   "source": [
    "# #############################################################################\n",
    "# 4 circles\n",
    "img = circle1 + circle2 + circle3 + circle4\n",
    "\n",
    "# We use a mask that limits to the foreground: the problem that we are\n",
    "# interested in here is not separating the objects from the background,\n",
    "# but separating them one from the other.\n",
    "mask = img.astype(bool)\n",
    "\n",
    "img = img.astype(float)\n",
    "img += 1 + 0.2 * np.random.randn(*img.shape)\n",
    "\n",
    "# Convert the image into a graph with the value of the gradient on the\n",
    "# edges.\n",
    "graph = image.img_to_graph(img, mask=mask)\n",
    "\n",
    "# Take a decreasing function of the gradient: we take it weakly\n",
    "# dependent from the gradient the segmentation is close to a voronoi\n",
    "graph.data = np.exp(-graph.data / graph.data.std())\n",
    "\n",
    "# Force the solver to be arpack, since amg is numerically\n",
    "# unstable on this example\n",
    "labels = spectral_clustering(graph, n_clusters=4, eigen_solver='arpack') #eigen_solver: The eigenvalue decomposition strategy to use.\n",
    "\n",
    "\n",
    "\n",
    "label_im = np.full(mask.shape, -1.)\n",
    "label_im[mask] = labels\n",
    "\n",
    "plt.matshow(img)\n",
    "plt.matshow(label_im)\n"
   ]
  },
  {
   "cell_type": "markdown",
   "metadata": {},
   "source": [
    "<p style=\"font-family:verdana; font-size:15px\">\n",
    "parameters in spectral_clustering  \n",
    "\n",
    "<url> https://scikit-learn.org/stable/modules/generated/sklearn.cluster.SpectralClustering.html#sklearn.cluster.SpectralClustering</url>\n",
    "</p>"
   ]
  },
  {
   "cell_type": "code",
   "execution_count": null,
   "metadata": {},
   "outputs": [],
   "source": [
    "\n",
    "# #############################################################################\n",
    "# 2 circles\n",
    "img = circle1 + circle2\n",
    "mask = img.astype(bool)\n",
    "img = img.astype(float)\n",
    "\n",
    "img += 1 + 0.2 * np.random.randn(*img.shape)\n",
    "\n",
    "graph = image.img_to_graph(img, mask=mask)\n",
    "graph.data = np.exp(-graph.data / graph.data.std())\n",
    "\n",
    "labels = spectral_clustering(graph, n_clusters=2, eigen_solver='arpack')\n",
    "label_im = np.full(mask.shape, -1.)\n",
    "label_im[mask] = labels\n",
    "\n",
    "plt.matshow(img)\n",
    "plt.matshow(label_im)\n",
    "\n",
    "plt.show()"
   ]
  },
  {
   "cell_type": "code",
   "execution_count": null,
   "metadata": {},
   "outputs": [],
   "source": []
  }
 ],
 "metadata": {
  "kernelspec": {
   "display_name": "Python 3",
   "language": "python",
   "name": "python3"
  },
  "language_info": {
   "codemirror_mode": {
    "name": "ipython",
    "version": 3
   },
   "file_extension": ".py",
   "mimetype": "text/x-python",
   "name": "python",
   "nbconvert_exporter": "python",
   "pygments_lexer": "ipython3",
   "version": "3.6.5"
  }
 },
 "nbformat": 4,
 "nbformat_minor": 1
}
