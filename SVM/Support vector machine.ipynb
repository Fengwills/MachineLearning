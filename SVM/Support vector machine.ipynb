{
 "cells": [
  {
   "cell_type": "markdown",
   "metadata": {},
   "source": [
    "# Support Vector Machines"
   ]
  },
  {
   "cell_type": "markdown",
   "metadata": {
    "collapsed": true
   },
   "source": [
    "<p style=\"font-family:verdana; font-size:15px\" id=\"svm\"><b> Support Vector Machines</b> are supervised learning models which can be used for both classification and regression. SVMs are among the best supervised learning algorithms. It is effective in high dimensional space and it is memory efficient as well.\n",
    "\n",
    "Consider a binary classification problem, where the task is to assign a one of the two labels to given input. We plot each data item as a point in n-dimensional space as follows:</p>\n",
    "\n",
    "![title](./images/svm1.png)"
   ]
  },
  {
   "cell_type": "markdown",
   "metadata": {},
   "source": [
    "<p style=\"font-family:verdana; font-size:15px\">We can perform classification by finding the hyperplane that differentiate the two classes very well. As you can see in the above image, we can draw m number of hyperplanes. How do we find the best one? We can find the optimal hyperplane by maximizing the <b> margin </b>.</p>\n",
    "![title](./images/svm2.png)"
   ]
  },
  {
   "cell_type": "markdown",
   "metadata": {},
   "source": [
    "<p style=\"font-family:verdana; font-size:15px\">We define margin as a twice of the distance between the hyperplane and the nearest sample points to the hyperplane. This points are known as <b>support vector</b>. They known as support vectors because they hold up optimal hyperplane. In above figure, support vectors are represented with filled color.\n",
    "\n",
    "Consider a first hyperplane in figure-1 which touches the two sample points(red). Although it classifies all the examples correctly, but the problem is our hyperplane is close to the so many sample points and other red examples might fall on the other side of the hyperplane. This problem can be solved by choosing a hyperplane which is farthest away from the sample points. It turns out that this type of model generalize very well. This optimal hyperplane is also known as <b> maximum margin separator</b>.</p>"
   ]
  },
  {
   "cell_type": "markdown",
   "metadata": {
    "collapsed": true
   },
   "source": [
    "<p style=\"font-family:verdana; font-size:15px\">We know that we want hyperplane with maximum margin and we also discussed why we want this. Now, let us learn how to find this optimal hyperplane? Before that, please note in case of SVMs, we represent class labels with +1 and -1 instead of 0 and 1(Binary Valued Labels). Here, we represent each hyperplane, the optimal one, negative and positive hyperplane(dashed lines) with linear equations - w<sup>T</sup>x + b = 0, w<sup>T</sup>x+b = -1 and w<sup>T</sup>x + b = +1 respectively. The left most dashed line is negative hyperplane. We represent red points with x<sub>-</sub> and blue points with x<sub>+</sub>. To derive the equation for a margin let us substract equations of negative and positive hyperplane from each other.</p>"
   ]
  },
  {
   "cell_type": "markdown",
   "metadata": {},
   "source": [
    "<p style=\"font-family:verdana; font-size:15px\">\\begin{align}\n",
    "w^T(x_+ - x_-) = 2\n",
    "\\end{align}<br><br>\n",
    "\n",
    "Adding length of the vector w to normalize this,<br>\n",
    "\n",
    "\\begin{align}\n",
    "\\frac{w^T(x_+ - x_-)}{||w||} = \\frac{2}{||w||} \n",
    "\\end{align}\n",
    "<br><br>\n",
    "where, <b> 2/||w||</b> is the margin.\n",
    "\n",
    "Now the objective of the SVM becomes maximization of the margin under the constraint that samples are classified correctly.\n",
    "\\begin{align}\n",
    "w^T x^{(i)} + b >= 1  \\hspace{1cm} if \\hspace{1cm} y^{(i)} = +1 \\newline\n",
    "w^T x^{(i)} + b < -1  \\hspace{1cm} if \\hspace{1cm} y^{(i)} = -1\n",
    "\\end{align}\n",
    "<br><br>\n",
    "This can also be written more compractly as \n",
    "\\begin{align}\n",
    "y^{(i)} ( w_0 + w^T x^{(i)}) >= 1 \\forall_i\n",
    "\\end{align}</p>"
   ]
  },
  {
   "cell_type": "markdown",
   "metadata": {},
   "source": [
    "<p style=\"font-family:verdana; font-size:15px\">In practice, it is easier to minimize the below given reciprocal term \\begin{align} \\frac{1}{2} ||w||^2 \\end{align}. This is the quadratic programming problem with the linear constraint.</p>"
   ]
  },
  {
   "cell_type": "markdown",
   "metadata": {},
   "source": [
    "<p style=\"font-family:verdana; font-size:15px\">In the case of inherently noisy data, we may not want a linear hyperplane in high-dimensional space. Rather, we'd like a decision surface in low dimensional space that does not clearly seperate the classes, but reflects the reality of the noisy data. That is possible with the <b> soft margin classifier</b>, which allows examples to fall on the wrong side of the decision boundary, but assigns them a penalty proportional to the distance required to move them back on the correct side. In soft margin classifier, we add slack variables to the linear constraint.<br><br>\n",
    "\\begin{align}\n",
    "y_{(i)} (w^T x_i + b ) >= 1 - \\xi \\hspace{1cm} for \\hspace{1cm} i = 1,..,N\n",
    "\\end{align}\n",
    "\n",
    "Now, our objective to minimize is<br><br>\n",
    "\\begin{align}\n",
    "\\frac{1}{2} ||w||^2 + C (\\sum_{i} \\xi^{(i)})\n",
    "\\end{align}\n",
    "\n",
    "C is the <b> regularization </b> parameter. Small C allows constraint to be easily ignored and results in large margin whereas large C makes constraints hard to ignore and results in narrow margin. This is still a quadratic optimization problem and there is a unique minimum. \n",
    "\n",
    "Now let us implement linear SVM classifier in Python using sklearn. We will use iris dataset</p>"
   ]
  },
  {
   "cell_type": "code",
   "execution_count": 2,
   "metadata": {},
   "outputs": [],
   "source": [
    "#import the dependencies\n",
    "from sklearn.datasets import load_iris\n",
    "from sklearn.svm import SVC\n",
    "#load dataset\n",
    "dataset = load_iris()\n",
    "data = dataset.data\n",
    "target = dataset.target"
   ]
  },
  {
   "cell_type": "markdown",
   "metadata": {},
   "source": [
    "    In machine learning, we always need to do some preprocessing to make our dataset suitable for the learning algorithm. I will introduce few preprocessing techniques as we go through various algorithms. Here, we will perform feature scaling which is required for optimal performance. Feature scaling is used to standardize the range of features of data."
   ]
  },
  {
   "cell_type": "code",
   "execution_count": 3,
   "metadata": {},
   "outputs": [
    {
     "data": {
      "text/plain": [
       "array([[ -9.00681170e-01,   1.03205722e+00,  -1.34127240e+00,\n",
       "         -1.31297673e+00],\n",
       "       [ -1.14301691e+00,  -1.24957601e-01,  -1.34127240e+00,\n",
       "         -1.31297673e+00],\n",
       "       [ -1.38535265e+00,   3.37848329e-01,  -1.39813811e+00,\n",
       "         -1.31297673e+00],\n",
       "       [ -1.50652052e+00,   1.06445364e-01,  -1.28440670e+00,\n",
       "         -1.31297673e+00],\n",
       "       [ -1.02184904e+00,   1.26346019e+00,  -1.34127240e+00,\n",
       "         -1.31297673e+00],\n",
       "       [ -5.37177559e-01,   1.95766909e+00,  -1.17067529e+00,\n",
       "         -1.05003079e+00],\n",
       "       [ -1.50652052e+00,   8.00654259e-01,  -1.34127240e+00,\n",
       "         -1.18150376e+00],\n",
       "       [ -1.02184904e+00,   8.00654259e-01,  -1.28440670e+00,\n",
       "         -1.31297673e+00],\n",
       "       [ -1.74885626e+00,  -3.56360566e-01,  -1.34127240e+00,\n",
       "         -1.31297673e+00],\n",
       "       [ -1.14301691e+00,   1.06445364e-01,  -1.28440670e+00,\n",
       "         -1.44444970e+00],\n",
       "       [ -5.37177559e-01,   1.49486315e+00,  -1.28440670e+00,\n",
       "         -1.31297673e+00],\n",
       "       [ -1.26418478e+00,   8.00654259e-01,  -1.22754100e+00,\n",
       "         -1.31297673e+00],\n",
       "       [ -1.26418478e+00,  -1.24957601e-01,  -1.34127240e+00,\n",
       "         -1.44444970e+00],\n",
       "       [ -1.87002413e+00,  -1.24957601e-01,  -1.51186952e+00,\n",
       "         -1.44444970e+00],\n",
       "       [ -5.25060772e-02,   2.18907205e+00,  -1.45500381e+00,\n",
       "         -1.31297673e+00],\n",
       "       [ -1.73673948e-01,   3.11468391e+00,  -1.28440670e+00,\n",
       "         -1.05003079e+00],\n",
       "       [ -5.37177559e-01,   1.95766909e+00,  -1.39813811e+00,\n",
       "         -1.05003079e+00],\n",
       "       [ -9.00681170e-01,   1.03205722e+00,  -1.34127240e+00,\n",
       "         -1.18150376e+00],\n",
       "       [ -1.73673948e-01,   1.72626612e+00,  -1.17067529e+00,\n",
       "         -1.18150376e+00],\n",
       "       [ -9.00681170e-01,   1.72626612e+00,  -1.28440670e+00,\n",
       "         -1.18150376e+00],\n",
       "       [ -5.37177559e-01,   8.00654259e-01,  -1.17067529e+00,\n",
       "         -1.31297673e+00],\n",
       "       [ -9.00681170e-01,   1.49486315e+00,  -1.28440670e+00,\n",
       "         -1.05003079e+00],\n",
       "       [ -1.50652052e+00,   1.26346019e+00,  -1.56873522e+00,\n",
       "         -1.31297673e+00],\n",
       "       [ -9.00681170e-01,   5.69251294e-01,  -1.17067529e+00,\n",
       "         -9.18557817e-01],\n",
       "       [ -1.26418478e+00,   8.00654259e-01,  -1.05694388e+00,\n",
       "         -1.31297673e+00],\n",
       "       [ -1.02184904e+00,  -1.24957601e-01,  -1.22754100e+00,\n",
       "         -1.31297673e+00],\n",
       "       [ -1.02184904e+00,   8.00654259e-01,  -1.22754100e+00,\n",
       "         -1.05003079e+00],\n",
       "       [ -7.79513300e-01,   1.03205722e+00,  -1.28440670e+00,\n",
       "         -1.31297673e+00],\n",
       "       [ -7.79513300e-01,   8.00654259e-01,  -1.34127240e+00,\n",
       "         -1.31297673e+00],\n",
       "       [ -1.38535265e+00,   3.37848329e-01,  -1.22754100e+00,\n",
       "         -1.31297673e+00],\n",
       "       [ -1.26418478e+00,   1.06445364e-01,  -1.22754100e+00,\n",
       "         -1.31297673e+00],\n",
       "       [ -5.37177559e-01,   8.00654259e-01,  -1.28440670e+00,\n",
       "         -1.05003079e+00],\n",
       "       [ -7.79513300e-01,   2.42047502e+00,  -1.28440670e+00,\n",
       "         -1.44444970e+00],\n",
       "       [ -4.16009689e-01,   2.65187798e+00,  -1.34127240e+00,\n",
       "         -1.31297673e+00],\n",
       "       [ -1.14301691e+00,   1.06445364e-01,  -1.28440670e+00,\n",
       "         -1.44444970e+00],\n",
       "       [ -1.02184904e+00,   3.37848329e-01,  -1.45500381e+00,\n",
       "         -1.31297673e+00],\n",
       "       [ -4.16009689e-01,   1.03205722e+00,  -1.39813811e+00,\n",
       "         -1.31297673e+00],\n",
       "       [ -1.14301691e+00,   1.06445364e-01,  -1.28440670e+00,\n",
       "         -1.44444970e+00],\n",
       "       [ -1.74885626e+00,  -1.24957601e-01,  -1.39813811e+00,\n",
       "         -1.31297673e+00],\n",
       "       [ -9.00681170e-01,   8.00654259e-01,  -1.28440670e+00,\n",
       "         -1.31297673e+00],\n",
       "       [ -1.02184904e+00,   1.03205722e+00,  -1.39813811e+00,\n",
       "         -1.18150376e+00],\n",
       "       [ -1.62768839e+00,  -1.74477836e+00,  -1.39813811e+00,\n",
       "         -1.18150376e+00],\n",
       "       [ -1.74885626e+00,   3.37848329e-01,  -1.39813811e+00,\n",
       "         -1.31297673e+00],\n",
       "       [ -1.02184904e+00,   1.03205722e+00,  -1.22754100e+00,\n",
       "         -7.87084847e-01],\n",
       "       [ -9.00681170e-01,   1.72626612e+00,  -1.05694388e+00,\n",
       "         -1.05003079e+00],\n",
       "       [ -1.26418478e+00,  -1.24957601e-01,  -1.34127240e+00,\n",
       "         -1.18150376e+00],\n",
       "       [ -9.00681170e-01,   1.72626612e+00,  -1.22754100e+00,\n",
       "         -1.31297673e+00],\n",
       "       [ -1.50652052e+00,   3.37848329e-01,  -1.34127240e+00,\n",
       "         -1.31297673e+00],\n",
       "       [ -6.58345429e-01,   1.49486315e+00,  -1.28440670e+00,\n",
       "         -1.31297673e+00],\n",
       "       [ -1.02184904e+00,   5.69251294e-01,  -1.34127240e+00,\n",
       "         -1.31297673e+00],\n",
       "       [  1.40150837e+00,   3.37848329e-01,   5.35295827e-01,\n",
       "          2.64698913e-01],\n",
       "       [  6.74501145e-01,   3.37848329e-01,   4.21564419e-01,\n",
       "          3.96171883e-01],\n",
       "       [  1.28034050e+00,   1.06445364e-01,   6.49027235e-01,\n",
       "          3.96171883e-01],\n",
       "       [ -4.16009689e-01,  -1.74477836e+00,   1.37235899e-01,\n",
       "          1.33225943e-01],\n",
       "       [  7.95669016e-01,  -5.87763531e-01,   4.78430123e-01,\n",
       "          3.96171883e-01],\n",
       "       [ -1.73673948e-01,  -5.87763531e-01,   4.21564419e-01,\n",
       "          1.33225943e-01],\n",
       "       [  5.53333275e-01,   5.69251294e-01,   5.35295827e-01,\n",
       "          5.27644853e-01],\n",
       "       [ -1.14301691e+00,  -1.51337539e+00,  -2.60824029e-01,\n",
       "         -2.61192967e-01],\n",
       "       [  9.16836886e-01,  -3.56360566e-01,   4.78430123e-01,\n",
       "          1.33225943e-01],\n",
       "       [ -7.79513300e-01,  -8.19166497e-01,   8.03701950e-02,\n",
       "          2.64698913e-01],\n",
       "       [ -1.02184904e+00,  -2.43898725e+00,  -1.47092621e-01,\n",
       "         -2.61192967e-01],\n",
       "       [  6.86617933e-02,  -1.24957601e-01,   2.50967307e-01,\n",
       "          3.96171883e-01],\n",
       "       [  1.89829664e-01,  -1.97618132e+00,   1.37235899e-01,\n",
       "         -2.61192967e-01],\n",
       "       [  3.10997534e-01,  -3.56360566e-01,   5.35295827e-01,\n",
       "          2.64698913e-01],\n",
       "       [ -2.94841818e-01,  -3.56360566e-01,  -9.02269170e-02,\n",
       "          1.33225943e-01],\n",
       "       [  1.03800476e+00,   1.06445364e-01,   3.64698715e-01,\n",
       "          2.64698913e-01],\n",
       "       [ -2.94841818e-01,  -1.24957601e-01,   4.21564419e-01,\n",
       "          3.96171883e-01],\n",
       "       [ -5.25060772e-02,  -8.19166497e-01,   1.94101603e-01,\n",
       "         -2.61192967e-01],\n",
       "       [  4.32165405e-01,  -1.97618132e+00,   4.21564419e-01,\n",
       "          3.96171883e-01],\n",
       "       [ -2.94841818e-01,  -1.28197243e+00,   8.03701950e-02,\n",
       "         -1.29719997e-01],\n",
       "       [  6.86617933e-02,   3.37848329e-01,   5.92161531e-01,\n",
       "          7.90590793e-01],\n",
       "       [  3.10997534e-01,  -5.87763531e-01,   1.37235899e-01,\n",
       "          1.33225943e-01],\n",
       "       [  5.53333275e-01,  -1.28197243e+00,   6.49027235e-01,\n",
       "          3.96171883e-01],\n",
       "       [  3.10997534e-01,  -5.87763531e-01,   5.35295827e-01,\n",
       "          1.75297293e-03],\n",
       "       [  6.74501145e-01,  -3.56360566e-01,   3.07833011e-01,\n",
       "          1.33225943e-01],\n",
       "       [  9.16836886e-01,  -1.24957601e-01,   3.64698715e-01,\n",
       "          2.64698913e-01],\n",
       "       [  1.15917263e+00,  -5.87763531e-01,   5.92161531e-01,\n",
       "          2.64698913e-01],\n",
       "       [  1.03800476e+00,  -1.24957601e-01,   7.05892939e-01,\n",
       "          6.59117823e-01],\n",
       "       [  1.89829664e-01,  -3.56360566e-01,   4.21564419e-01,\n",
       "          3.96171883e-01],\n",
       "       [ -1.73673948e-01,  -1.05056946e+00,  -1.47092621e-01,\n",
       "         -2.61192967e-01],\n",
       "       [ -4.16009689e-01,  -1.51337539e+00,   2.35044910e-02,\n",
       "         -1.29719997e-01],\n",
       "       [ -4.16009689e-01,  -1.51337539e+00,  -3.33612130e-02,\n",
       "         -2.61192967e-01],\n",
       "       [ -5.25060772e-02,  -8.19166497e-01,   8.03701950e-02,\n",
       "          1.75297293e-03],\n",
       "       [  1.89829664e-01,  -8.19166497e-01,   7.62758643e-01,\n",
       "          5.27644853e-01],\n",
       "       [ -5.37177559e-01,  -1.24957601e-01,   4.21564419e-01,\n",
       "          3.96171883e-01],\n",
       "       [  1.89829664e-01,   8.00654259e-01,   4.21564419e-01,\n",
       "          5.27644853e-01],\n",
       "       [  1.03800476e+00,   1.06445364e-01,   5.35295827e-01,\n",
       "          3.96171883e-01],\n",
       "       [  5.53333275e-01,  -1.74477836e+00,   3.64698715e-01,\n",
       "          1.33225943e-01],\n",
       "       [ -2.94841818e-01,  -1.24957601e-01,   1.94101603e-01,\n",
       "          1.33225943e-01],\n",
       "       [ -4.16009689e-01,  -1.28197243e+00,   1.37235899e-01,\n",
       "          1.33225943e-01],\n",
       "       [ -4.16009689e-01,  -1.05056946e+00,   3.64698715e-01,\n",
       "          1.75297293e-03],\n",
       "       [  3.10997534e-01,  -1.24957601e-01,   4.78430123e-01,\n",
       "          2.64698913e-01],\n",
       "       [ -5.25060772e-02,  -1.05056946e+00,   1.37235899e-01,\n",
       "          1.75297293e-03],\n",
       "       [ -1.02184904e+00,  -1.74477836e+00,  -2.60824029e-01,\n",
       "         -2.61192967e-01],\n",
       "       [ -2.94841818e-01,  -8.19166497e-01,   2.50967307e-01,\n",
       "          1.33225943e-01],\n",
       "       [ -1.73673948e-01,  -1.24957601e-01,   2.50967307e-01,\n",
       "          1.75297293e-03],\n",
       "       [ -1.73673948e-01,  -3.56360566e-01,   2.50967307e-01,\n",
       "          1.33225943e-01],\n",
       "       [  4.32165405e-01,  -3.56360566e-01,   3.07833011e-01,\n",
       "          1.33225943e-01],\n",
       "       [ -9.00681170e-01,  -1.28197243e+00,  -4.31421141e-01,\n",
       "         -1.29719997e-01],\n",
       "       [ -1.73673948e-01,  -5.87763531e-01,   1.94101603e-01,\n",
       "          1.33225943e-01],\n",
       "       [  5.53333275e-01,   5.69251294e-01,   1.27454998e+00,\n",
       "          1.71090158e+00],\n",
       "       [ -5.25060772e-02,  -8.19166497e-01,   7.62758643e-01,\n",
       "          9.22063763e-01],\n",
       "       [  1.52267624e+00,  -1.24957601e-01,   1.21768427e+00,\n",
       "          1.18500970e+00],\n",
       "       [  5.53333275e-01,  -3.56360566e-01,   1.04708716e+00,\n",
       "          7.90590793e-01],\n",
       "       [  7.95669016e-01,  -1.24957601e-01,   1.16081857e+00,\n",
       "          1.31648267e+00],\n",
       "       [  2.12851559e+00,  -1.24957601e-01,   1.61574420e+00,\n",
       "          1.18500970e+00],\n",
       "       [ -1.14301691e+00,  -1.28197243e+00,   4.21564419e-01,\n",
       "          6.59117823e-01],\n",
       "       [  1.76501198e+00,  -3.56360566e-01,   1.44514709e+00,\n",
       "          7.90590793e-01],\n",
       "       [  1.03800476e+00,  -1.28197243e+00,   1.16081857e+00,\n",
       "          7.90590793e-01],\n",
       "       [  1.64384411e+00,   1.26346019e+00,   1.33141568e+00,\n",
       "          1.71090158e+00],\n",
       "       [  7.95669016e-01,   3.37848329e-01,   7.62758643e-01,\n",
       "          1.05353673e+00],\n",
       "       [  6.74501145e-01,  -8.19166497e-01,   8.76490051e-01,\n",
       "          9.22063763e-01],\n",
       "       [  1.15917263e+00,  -1.24957601e-01,   9.90221459e-01,\n",
       "          1.18500970e+00],\n",
       "       [ -1.73673948e-01,  -1.28197243e+00,   7.05892939e-01,\n",
       "          1.05353673e+00],\n",
       "       [ -5.25060772e-02,  -5.87763531e-01,   7.62758643e-01,\n",
       "          1.57942861e+00],\n",
       "       [  6.74501145e-01,   3.37848329e-01,   8.76490051e-01,\n",
       "          1.44795564e+00],\n",
       "       [  7.95669016e-01,  -1.24957601e-01,   9.90221459e-01,\n",
       "          7.90590793e-01],\n",
       "       [  2.24968346e+00,   1.72626612e+00,   1.67260991e+00,\n",
       "          1.31648267e+00],\n",
       "       [  2.24968346e+00,  -1.05056946e+00,   1.78634131e+00,\n",
       "          1.44795564e+00],\n",
       "       [  1.89829664e-01,  -1.97618132e+00,   7.05892939e-01,\n",
       "          3.96171883e-01],\n",
       "       [  1.28034050e+00,   3.37848329e-01,   1.10395287e+00,\n",
       "          1.44795564e+00],\n",
       "       [ -2.94841818e-01,  -5.87763531e-01,   6.49027235e-01,\n",
       "          1.05353673e+00],\n",
       "       [  2.24968346e+00,  -5.87763531e-01,   1.67260991e+00,\n",
       "          1.05353673e+00],\n",
       "       [  5.53333275e-01,  -8.19166497e-01,   6.49027235e-01,\n",
       "          7.90590793e-01],\n",
       "       [  1.03800476e+00,   5.69251294e-01,   1.10395287e+00,\n",
       "          1.18500970e+00],\n",
       "       [  1.64384411e+00,   3.37848329e-01,   1.27454998e+00,\n",
       "          7.90590793e-01],\n",
       "       [  4.32165405e-01,  -5.87763531e-01,   5.92161531e-01,\n",
       "          7.90590793e-01],\n",
       "       [  3.10997534e-01,  -1.24957601e-01,   6.49027235e-01,\n",
       "          7.90590793e-01],\n",
       "       [  6.74501145e-01,  -5.87763531e-01,   1.04708716e+00,\n",
       "          1.18500970e+00],\n",
       "       [  1.64384411e+00,  -1.24957601e-01,   1.16081857e+00,\n",
       "          5.27644853e-01],\n",
       "       [  1.88617985e+00,  -5.87763531e-01,   1.33141568e+00,\n",
       "          9.22063763e-01],\n",
       "       [  2.49201920e+00,   1.72626612e+00,   1.50201279e+00,\n",
       "          1.05353673e+00],\n",
       "       [  6.74501145e-01,  -5.87763531e-01,   1.04708716e+00,\n",
       "          1.31648267e+00],\n",
       "       [  5.53333275e-01,  -5.87763531e-01,   7.62758643e-01,\n",
       "          3.96171883e-01],\n",
       "       [  3.10997534e-01,  -1.05056946e+00,   1.04708716e+00,\n",
       "          2.64698913e-01],\n",
       "       [  2.24968346e+00,  -1.24957601e-01,   1.33141568e+00,\n",
       "          1.44795564e+00],\n",
       "       [  5.53333275e-01,   8.00654259e-01,   1.04708716e+00,\n",
       "          1.57942861e+00],\n",
       "       [  6.74501145e-01,   1.06445364e-01,   9.90221459e-01,\n",
       "          7.90590793e-01],\n",
       "       [  1.89829664e-01,  -1.24957601e-01,   5.92161531e-01,\n",
       "          7.90590793e-01],\n",
       "       [  1.28034050e+00,   1.06445364e-01,   9.33355755e-01,\n",
       "          1.18500970e+00],\n",
       "       [  1.03800476e+00,   1.06445364e-01,   1.04708716e+00,\n",
       "          1.57942861e+00],\n",
       "       [  1.28034050e+00,   1.06445364e-01,   7.62758643e-01,\n",
       "          1.44795564e+00],\n",
       "       [ -5.25060772e-02,  -8.19166497e-01,   7.62758643e-01,\n",
       "          9.22063763e-01],\n",
       "       [  1.15917263e+00,   3.37848329e-01,   1.21768427e+00,\n",
       "          1.44795564e+00],\n",
       "       [  1.03800476e+00,   5.69251294e-01,   1.10395287e+00,\n",
       "          1.71090158e+00],\n",
       "       [  1.03800476e+00,  -1.24957601e-01,   8.19624347e-01,\n",
       "          1.44795564e+00],\n",
       "       [  5.53333275e-01,  -1.28197243e+00,   7.05892939e-01,\n",
       "          9.22063763e-01],\n",
       "       [  7.95669016e-01,  -1.24957601e-01,   8.19624347e-01,\n",
       "          1.05353673e+00],\n",
       "       [  4.32165405e-01,   8.00654259e-01,   9.33355755e-01,\n",
       "          1.44795564e+00],\n",
       "       [  6.86617933e-02,  -1.24957601e-01,   7.62758643e-01,\n",
       "          7.90590793e-01]])"
      ]
     },
     "execution_count": 3,
     "metadata": {},
     "output_type": "execute_result"
    }
   ],
   "source": [
    "from sklearn.preprocessing import StandardScaler\n",
    "sc = StandardScaler()\n",
    "sc.fit_transform(data) #check out preprocessing module of sklearn to learn more about preprocessing in ML"
   ]
  },
  {
   "cell_type": "code",
   "execution_count": 4,
   "metadata": {},
   "outputs": [],
   "source": [
    "#now let us divide data into training and testing set\n",
    "from sklearn.model_selection import train_test_split\n",
    "X_train, X_test, y_train, y_test = train_test_split(data, target, random_state=42, test_size=0.3)"
   ]
  },
  {
   "cell_type": "code",
   "execution_count": 5,
   "metadata": {},
   "outputs": [
    {
     "data": {
      "text/plain": [
       "SVC(C=1.0, cache_size=200, class_weight=None, coef0=0.0,\n",
       "  decision_function_shape=None, degree=3, gamma='auto', kernel='rbf',\n",
       "  max_iter=-1, probability=False, random_state=None, shrinking=True,\n",
       "  tol=0.001, verbose=False)"
      ]
     },
     "execution_count": 5,
     "metadata": {},
     "output_type": "execute_result"
    }
   ],
   "source": [
    "#train a model\n",
    "model = SVC()\n",
    "model.fit(X_train,y_train)"
   ]
  },
  {
   "cell_type": "code",
   "execution_count": 6,
   "metadata": {
    "collapsed": true
   },
   "outputs": [],
   "source": [
    "from sklearn.metrics import accuracy_score"
   ]
  },
  {
   "cell_type": "code",
   "execution_count": 7,
   "metadata": {},
   "outputs": [
    {
     "data": {
      "text/plain": [
       "1.0"
      ]
     },
     "execution_count": 7,
     "metadata": {},
     "output_type": "execute_result"
    }
   ],
   "source": [
    "accuracy_score(y_test, model.predict(X_test))"
   ]
  },
  {
   "cell_type": "code",
   "execution_count": 8,
   "metadata": {},
   "outputs": [
    {
     "data": {
      "text/plain": [
       "(39, 4)"
      ]
     },
     "execution_count": 8,
     "metadata": {},
     "output_type": "execute_result"
    }
   ],
   "source": [
    "model.support_vectors_.shape"
   ]
  },
  {
   "cell_type": "code",
   "execution_count": 9,
   "metadata": {},
   "outputs": [
    {
     "data": {
      "text/plain": [
       "array([[ 5.1,  3.8,  1.9,  0.4],\n",
       "       [ 4.8,  3.4,  1.9,  0.2],\n",
       "       [ 5.5,  4.2,  1.4,  0.2],\n",
       "       [ 4.5,  2.3,  1.3,  0.3],\n",
       "       [ 5.8,  4. ,  1.2,  0.2],\n",
       "       [ 5.6,  3. ,  4.5,  1.5],\n",
       "       [ 5. ,  2. ,  3.5,  1. ],\n",
       "       [ 5.4,  3. ,  4.5,  1.5],\n",
       "       [ 6.7,  3. ,  5. ,  1.7],\n",
       "       [ 5.9,  3.2,  4.8,  1.8],\n",
       "       [ 5.1,  2.5,  3. ,  1.1],\n",
       "       [ 6. ,  2.7,  5.1,  1.6],\n",
       "       [ 6.3,  2.5,  4.9,  1.5],\n",
       "       [ 6.1,  2.9,  4.7,  1.4],\n",
       "       [ 6.5,  2.8,  4.6,  1.5],\n",
       "       [ 7. ,  3.2,  4.7,  1.4],\n",
       "       [ 6.1,  3. ,  4.6,  1.4],\n",
       "       [ 5.5,  2.6,  4.4,  1.2],\n",
       "       [ 4.9,  2.4,  3.3,  1. ],\n",
       "       [ 6.9,  3.1,  4.9,  1.5],\n",
       "       [ 6.3,  2.3,  4.4,  1.3],\n",
       "       [ 6.3,  2.8,  5.1,  1.5],\n",
       "       [ 7.7,  2.8,  6.7,  2. ],\n",
       "       [ 6.3,  2.7,  4.9,  1.8],\n",
       "       [ 7.7,  3.8,  6.7,  2.2],\n",
       "       [ 5.7,  2.5,  5. ,  2. ],\n",
       "       [ 6. ,  3. ,  4.8,  1.8],\n",
       "       [ 5.8,  2.7,  5.1,  1.9],\n",
       "       [ 6.2,  3.4,  5.4,  2.3],\n",
       "       [ 6.1,  2.6,  5.6,  1.4],\n",
       "       [ 6. ,  2.2,  5. ,  1.5],\n",
       "       [ 6.3,  3.3,  6. ,  2.5],\n",
       "       [ 6.2,  2.8,  4.8,  1.8],\n",
       "       [ 6.9,  3.1,  5.4,  2.1],\n",
       "       [ 6.5,  3. ,  5.2,  2. ],\n",
       "       [ 7.2,  3. ,  5.8,  1.6],\n",
       "       [ 5.6,  2.8,  4.9,  2. ],\n",
       "       [ 5.9,  3. ,  5.1,  1.8],\n",
       "       [ 4.9,  2.5,  4.5,  1.7]])"
      ]
     },
     "execution_count": 9,
     "metadata": {},
     "output_type": "execute_result"
    }
   ],
   "source": [
    "model.support_vectors_"
   ]
  },
  {
   "cell_type": "markdown",
   "metadata": {},
   "source": [
    "<p style=\"font-family:verdana; font-size:15px\">Till now, we see problems where input data can be seperated by linear hyperplane. But what is data points are not linearly seperable as shown below?</p>\n",
    "![title](./images/svm5.png)\n"
   ]
  },
  {
   "cell_type": "markdown",
   "metadata": {},
   "source": [
    "<p style=\"font-family:verdana; font-size:15px\">To solve this type of problems where data can not be seperated linearly, we add new feature. For example, let us add new feature z = x<sup>2</sup> + y<sup>2</sup>. Now, if we plot data points on x and z axis we get :</p>\n",
    "![title](./images/svm3.png)\n"
   ]
  },
  {
   "cell_type": "markdown",
   "metadata": {},
   "source": [
    "<p style=\"font-family:verdana; font-size:15px\"> As you can see, now we can have a linear hyperplane that can seperate data points very well. Do we need to add this additional feature manually? And the answer is no. We use the technique called <b> Kernel Trick</b>. Kernel trick is nothing but a set of functions which takes low-dimensional input space and transform it into high-dimensional space where data points are linearly seperable. These functions are called kernels. Widely used kernels are Radial Basis Function Kernel, Polynomial Kernel, Sigmoid kernel, etc.<br><br>\n",
    "\n",
    "Let us implement this in sklearn.</p>"
   ]
  },
  {
   "cell_type": "code",
   "execution_count": 10,
   "metadata": {},
   "outputs": [
    {
     "data": {
      "text/plain": [
       "1.0"
      ]
     },
     "execution_count": 10,
     "metadata": {},
     "output_type": "execute_result"
    }
   ],
   "source": [
    "#we have already imported libs and dataset\n",
    "model2= SVC(kernel=\"rbf\", gamma=0.2)\n",
    "model2.fit(X_train, y_train)\n",
    "model2.score(X_test, y_test)"
   ]
  },
  {
   "cell_type": "markdown",
   "metadata": {
    "collapsed": true
   },
   "source": [
    "<p style=\"font-family:verdana; font-size:15px\"> We can have different decision boundary for different kernels and gamma values. Here is the screenshot from scikit-learn website.</p>\n",
    "![title](./images/svm6.png)\n"
   ]
  }
 ],
 "metadata": {
  "anaconda-cloud": {},
  "kernelspec": {
   "display_name": "Python 3",
   "language": "python",
   "name": "python3"
  },
  "language_info": {
   "codemirror_mode": {
    "name": "ipython",
    "version": 3
   },
   "file_extension": ".py",
   "mimetype": "text/x-python",
   "name": "python",
   "nbconvert_exporter": "python",
   "pygments_lexer": "ipython3",
   "version": "3.6.5"
  }
 },
 "nbformat": 4,
 "nbformat_minor": 1
}
