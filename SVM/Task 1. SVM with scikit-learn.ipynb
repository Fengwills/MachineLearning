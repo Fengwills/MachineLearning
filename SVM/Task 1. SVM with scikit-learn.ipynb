{
 "cells": [
  {
   "cell_type": "markdown",
   "metadata": {},
   "source": [
    "# Task1: SVM with scikit-learn"
   ]
  },
  {
   "cell_type": "markdown",
   "metadata": {},
   "source": [
    "**Task Requirements**  \n",
    "Implement Support vector machines <font color=\"#660000\"> with the aid of Scikit-learn (sklearn.svm) </font>   \n",
    "<ul>\n",
    "     <li> Data set: Iris data provided by scikit-learn  </li>\n",
    "     <li> Feature: select the features as you want  </li>\n",
    "     <li> 10-fold Cross Validation  </li>\n",
    "     <li> Evaluate algorithm with Accuracy, Precision, Recall, F1  </li>\n",
    "</ul>\n",
    "\n"
   ]
  },
  {
   "cell_type": "code",
   "execution_count": null,
   "metadata": {},
   "outputs": [],
   "source": [
    "#Write your code here\n",
    "\n",
    "\n"
   ]
  },
  {
   "cell_type": "code",
   "execution_count": null,
   "metadata": {},
   "outputs": [],
   "source": []
  },
  {
   "cell_type": "markdown",
   "metadata": {},
   "source": [
    "**Input your results**\n",
    "\n",
    "\n",
    "|Accuracy|Precision|Recall|F1\n",
    "-|-|-|-|-\n",
    "Support vector machine | 0.0 | 0.0 | 0.0 | 0.0\n"
   ]
  },
  {
   "cell_type": "code",
   "execution_count": null,
   "metadata": {},
   "outputs": [],
   "source": []
  }
 ],
 "metadata": {
  "kernelspec": {
   "display_name": "Python 3",
   "language": "python",
   "name": "python3"
  },
  "language_info": {
   "codemirror_mode": {
    "name": "ipython",
    "version": 3
   },
   "file_extension": ".py",
   "mimetype": "text/x-python",
   "name": "python",
   "nbconvert_exporter": "python",
   "pygments_lexer": "ipython3",
   "version": "3.6.5"
  }
 },
 "nbformat": 4,
 "nbformat_minor": 2
}
