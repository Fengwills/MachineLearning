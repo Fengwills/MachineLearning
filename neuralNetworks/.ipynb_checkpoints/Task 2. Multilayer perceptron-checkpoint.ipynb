{
 "cells": [
  {
   "cell_type": "markdown",
   "metadata": {},
   "source": [
    "# Task2: Multilayer Perceptron"
   ]
  },
  {
   "cell_type": "markdown",
   "metadata": {},
   "source": [
    "**Task Requirements**  \n",
    "    Implement Three Layers Multilayer Perceptron <font color=\"#660000\">  by yourself </font> (do not call the scikit library (sklearn.neural_network.MLPClassifier), and implement gradient descent technique).   \n",
    "<ul>\n",
    "     <li> Data set: Kaggle Mnist  </li>\n",
    "     <li> Feature: select the features as you want  </li>\n",
    "     <li> 10-fold Cross Validation  </li>\n",
    "     <li> Evaluate algorithm with Accuracy, Precision, Recall, F1  </li>\n",
    "</ul>\n",
    "\n"
   ]
  },
  {
   "cell_type": "code",
   "execution_count": null,
   "metadata": {},
   "outputs": [],
   "source": [
    "#Write your code here\n",
    "\n",
    "\n"
   ]
  },
  {
   "cell_type": "code",
   "execution_count": null,
   "metadata": {},
   "outputs": [],
   "source": []
  },
  {
   "cell_type": "markdown",
   "metadata": {},
   "source": [
    "**Input your results**\n",
    "\n",
    "\n",
    "|Accuracy|Precision|Recall|F1\n",
    "-|-|-|-|-\n",
    "Simple Logistic Regression | 0.0 | 0.0 | 0.0 | 0.0\n",
    "\n"
   ]
  },
  {
   "cell_type": "code",
   "execution_count": null,
   "metadata": {},
   "outputs": [],
   "source": []
  }
 ],
 "metadata": {
  "kernelspec": {
   "display_name": "Python 3",
   "language": "python",
   "name": "python3"
  },
  "language_info": {
   "codemirror_mode": {
    "name": "ipython",
    "version": 3
   },
   "file_extension": ".py",
   "mimetype": "text/x-python",
   "name": "python",
   "nbconvert_exporter": "python",
   "pygments_lexer": "ipython3",
   "version": "3.6.5"
  }
 },
 "nbformat": 4,
 "nbformat_minor": 2
}
