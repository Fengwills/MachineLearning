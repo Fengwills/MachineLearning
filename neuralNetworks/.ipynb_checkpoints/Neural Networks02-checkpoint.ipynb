{
 "cells": [
  {
   "cell_type": "markdown",
   "metadata": {},
   "source": [
    "# Neural Networks with tensorflow"
   ]
  },
  {
   "cell_type": "markdown",
   "metadata": {},
   "source": [
    "<p style=\"font-family:verdana; font-size:15p\"> Neural Networks are very powerful supervised learning algorithms which can be used for Classification as well as Regression problems. In most cases, we have classification problem. It won't be wrong to say Neural Networks are the reason behind the hype of Machine Learning. Neural Networks or Artificial Neural Networks are also known as <b> Universal Function Approximator</b>. Read <a href=\"http://neuralnetworksanddeeplearning.com/chap4.html\">this</a> chapter of <a href=\"http://neuralnetworksanddeeplearning.com\">neural networks and deep learning</a> book. In this part, we will see what is neural networks, and how they work. Also, we will implement Neural Network using <a href=\"https://www.tensorflow.org/\">TensorFlow</a>.</p>"
   ]
  },
  {
   "cell_type": "markdown",
   "metadata": {},
   "source": [
    "<p style=\"font-family:verdana; font-size:15px\"> Neural Network is an information processing system, that is, we pass some input to the Neural Network, some processing happens and we get some output. Neural Networks are inspired from biological connection of neurons and how information processing happens in the brain. For more on biological neural networks see <a href=\"http://www.ece.utep.edu/research/webfuzzy/docs/kk-thesis/kk-thesis-html/node10.html\">here</a> and <a href=\"https://cs.stanford.edu/people/eroberts/courses/soco/projects/neural-networks/Biology/index.html\">here</a>. Very simple architecture of a neural network is shown below.</p>\n",
    "![title](./images/nn1.png)"
   ]
  },
  {
   "cell_type": "markdown",
   "metadata": {},
   "source": [
    "<p style=\"font-family:verdana; font-size:15px\"> Neural Network is made up of many neurons. We can think of each neuron as a single processing unit which accepts some input and produces some output. As we can see in above figure, there are three layers-<i>input layer, hidden layer and output layer</i>. You might have one question-why it is called hidden? The answer is- it's called hidden because it's not visible(preceded by input layer and followed by output layer). Each edge you see in figure has some weight associated with it. We can think of it as a importance of a particular feature. </p>\n",
    "\n",
    "<p style=\"font-family:verdana; font-size:15px\"> We pass input vector/matrix to the input layer then it will be multiplied by a weight matrix. Then it will be passed through an <b> activation function </b> which is used to introduce non-linearity into the network. If we use sigmoid activation function then input value will be squashed in between [0,1] and in case of tanh - [-1,1]. Common choices for activation functions are :</p>\n",
    "![title](./images/nn3.png)\n",
    "\n",
    "<p style=\"font-family:verdana; font-size:15px\"> Commonly used activation function is Relu since it has come nice property such as fast to converge and it also helps in regularization. Also, <b> SELU (Scaled Exponential Linear Unit)</b>, which recently came into the play, has started getting a lot of buzz. Check out <a href=\"https://github.com/bioinf-jku/SNNs\">this Github repo</a> for implementation and comparison of SELU with other activation functions.</p>\n",
    "\n",
    "<p style=\"font-family:verdana; font-size:15px\"> Now, let us dive deeper into neural networks. Suppose, we have an input vector $ {x_1,x_2,x_3} $ and let us denote hidden units with $ {h_1,h_2,h_3,h_4} $ and output units with ${o_1,o_2} $ then \n",
    "\\begin{align}\n",
    "h_1 = f(W_{11} x_1 + W_{21} x_2 + W_{31} x_3) \\newline\n",
    "h_2 = f(W_{12} x_1 + W_{22} x_2 + W_{32} x_3) \\newline\n",
    "h_3 = f(W_{13} x_1 + W_{23} x_2 + W_{33} x_3) \\newline\n",
    "h_4 = f(W_{14} x_1 + W_{24} x_2 + W_{34} x_3) \\newline\n",
    "\\end{align}</p>\n",
    "\n",
    "<p style=\"font-family:verdana; font-size:15px\">Here, <i> f</i> is the activation function. We will use RELU. These equations are pretty straight forward. Now, we have activations for hidden layer neurons, we need to find the output. In case of classification, we usually have C number of output neurons. Where C is the number of classes and each output neuron gives the probability of input belonging to a particular class. In this example, we have two classes and hence two neurons in output layer. Same way we can find activations for output layer. Now, how do we map output layer activations to the probabilities? For this, we use <b> softmax function</b>. Softmax function squashes K-dimensional vector of real values to K-dimensional vector of real values in range (0,1] that add up to 1. Softmax function can be written as : </p>\n",
    "![title](./images/nn4.png)\n"
   ]
  },
  {
   "cell_type": "markdown",
   "metadata": {
    "collapsed": true
   },
   "source": [
    "<p style=\"font-family:verdana; font-size:15px\"> Here, denominator acts as a normalizer such that output vector add up to 1. So, now we have our output. Please note, there are two pass in neural network algorithm- forward and backward. In forward pass, we calculate the output and in backward pass- we calculate the gradient of cost function with respect to the parameters of the neural network. But, how does learning work in Neural Network? We use gradient descent for learning in Neural Network and popular backpropagation algorithm to find gradients. Before that we need to define our cost function. Here, we will use cross-entropy as the cost function. We define cross-entropy cost function as:</p>\n",
    "![title](./images/nn5.png)\n",
    "\n",
    "<p style=\"font-family:verdana; font-size:15px\">\n",
    "If you remember, we update our parameters by substracting gradient of the cost function w.r.t a particular parameter multiplied by a learning rate. Here, I am not going into the details of gradient calculation but its easy to understand if you have basic knowledge of derivation and chain rule. Check <a href=\"http://neuralnetworksanddeeplearning.com/chap2.html\"> this </a> out if you are curious. Essentially, what we do is- calculate gradient of cost function with respect to each parameter. Note that, for optimization purpose we do not deal with individual weight/parameter rather we use vectors or matrices. For i.e, we represent weights of input to hidden layer as a vector. Also, I omitted bias term in above equations for simplicity purpose. Now, we will implement a vanilla neural network using TensorFlow. If you haven't used TensorFlow before than check out <a href=\"https://github.com/aymericdamien/TensorFlow-Examples/tree/master/notebooks/1_Introduction\">Github repo</a>\n",
    "</p>"
   ]
  },
  {
   "cell_type": "code",
   "execution_count": 12,
   "metadata": {
    "scrolled": true
   },
   "outputs": [
    {
     "name": "stdout",
     "output_type": "stream",
     "text": [
      "Extracting ./MNIST_data/train-images-idx3-ubyte.gz\n",
      "Extracting ./MNIST_data/train-labels-idx1-ubyte.gz\n",
      "Extracting ./MNIST_data/t10k-images-idx3-ubyte.gz\n",
      "Extracting ./MNIST_data/t10k-labels-idx1-ubyte.gz\n"
     ]
    }
   ],
   "source": [
    "#read the dataset\n",
    "from tensorflow.examples.tutorials.mnist import input_data\n",
    "#mnist = input_data.read_data_sets(\"MNIST_data\", one_hot=True)\n",
    "mnist = input_data.read_data_sets('./MNIST_data', one_hot=True)\n",
    "\n"
   ]
  },
  {
   "cell_type": "code",
   "execution_count": 13,
   "metadata": {},
   "outputs": [],
   "source": [
    "#create placeholders to store input and output data\n",
    "import tensorflow as tf\n",
    "X = tf.placeholder(tf.float32, shape=[None, 784])  #28* 28 = 784\n",
    "y = tf.placeholder(tf.float32, shape=[None, 10])  #10 classes"
   ]
  },
  {
   "cell_type": "code",
   "execution_count": 14,
   "metadata": {},
   "outputs": [],
   "source": [
    "#create weights and bias\n",
    "w1 = tf.Variable(tf.truncated_normal([784, 50], stddev=0.5))\n",
    "b1 = tf.Variable(tf.ones([50]))\n"
   ]
  },
  {
   "cell_type": "code",
   "execution_count": 15,
   "metadata": {},
   "outputs": [],
   "source": [
    "#for hidden to output layer\n",
    "w2= tf.Variable(tf.truncated_normal([50,10], stddev=0.5))\n",
    "b2= tf.Variable(tf.ones([10]))"
   ]
  },
  {
   "cell_type": "code",
   "execution_count": 16,
   "metadata": {},
   "outputs": [],
   "source": [
    "h = tf.nn.relu(tf.matmul(X,w1)+b1)\n",
    "o = tf.nn.relu(tf.matmul(h, w2)+b2)"
   ]
  },
  {
   "cell_type": "code",
   "execution_count": 17,
   "metadata": {},
   "outputs": [],
   "source": [
    "#cost function\n",
    "cost = tf.reduce_mean(tf.nn.softmax_cross_entropy_with_logits_v2(labels = y, logits = o))\n",
    "step = tf.train.GradientDescentOptimizer(0.2).minimize(cost)\n"
   ]
  },
  {
   "cell_type": "code",
   "execution_count": 18,
   "metadata": {},
   "outputs": [],
   "source": [
    "#find accuracy\n",
    "correct_prediction = tf.equal(tf.argmax(o,1), tf.argmax(y,1))\n",
    "accuracy = tf.reduce_mean(tf.cast(correct_prediction, \"float\"))"
   ]
  },
  {
   "cell_type": "code",
   "execution_count": 19,
   "metadata": {},
   "outputs": [
    {
     "name": "stdout",
     "output_type": "stream",
     "text": [
      "Step = 0, Accuracy = [0.1508]\n",
      "Step = 500, Accuracy = [0.3923]\n",
      "Step = 1000, Accuracy = [0.453]\n",
      "Step = 1500, Accuracy = [0.4615]\n",
      "Step = 2000, Accuracy = [0.4654]\n",
      "Step = 2500, Accuracy = [0.4742]\n",
      "Step = 3000, Accuracy = [0.6392]\n",
      "Step = 3500, Accuracy = [0.6508]\n",
      "Step = 4000, Accuracy = [0.6581]\n",
      "Step = 4500, Accuracy = [0.746]\n",
      "Step = 5000, Accuracy = [0.7513]\n",
      "Step = 5500, Accuracy = [0.7576]\n",
      "Step = 6000, Accuracy = [0.758]\n",
      "Step = 6500, Accuracy = [0.7574]\n",
      "Step = 7000, Accuracy = [0.7554]\n",
      "Step = 7500, Accuracy = [0.7611]\n",
      "Step = 8000, Accuracy = [0.7614]\n",
      "Step = 8500, Accuracy = [0.7619]\n",
      "Step = 9000, Accuracy = [0.7619]\n",
      "Step = 9500, Accuracy = [0.7653]\n",
      "Step = 10000, Accuracy = [0.765]\n",
      "Step = 10500, Accuracy = [0.7648]\n",
      "Step = 11000, Accuracy = [0.7654]\n",
      "Step = 11500, Accuracy = [0.7658]\n",
      "Step = 12000, Accuracy = [0.7673]\n",
      "Step = 12500, Accuracy = [0.7666]\n",
      "Step = 13000, Accuracy = [0.7663]\n",
      "Step = 13500, Accuracy = [0.7687]\n",
      "Step = 14000, Accuracy = [0.7669]\n",
      "Step = 14500, Accuracy = [0.7681]\n",
      "Step = 15000, Accuracy = [0.7679]\n",
      "Step = 15500, Accuracy = [0.7691]\n",
      "Step = 16000, Accuracy = [0.8162]\n",
      "Step = 16500, Accuracy = [0.8585]\n",
      "Step = 17000, Accuracy = [0.8624]\n",
      "Step = 17500, Accuracy = [0.8634]\n",
      "Step = 18000, Accuracy = [0.8629]\n",
      "Step = 18500, Accuracy = [0.8619]\n",
      "Step = 19000, Accuracy = [0.8615]\n",
      "Step = 19500, Accuracy = [0.863]\n",
      "Step = 20000, Accuracy = [0.8626]\n",
      "Step = 20500, Accuracy = [0.8645]\n",
      "Step = 21000, Accuracy = [0.8634]\n",
      "Step = 21500, Accuracy = [0.8644]\n",
      "Step = 22000, Accuracy = [0.8644]\n",
      "Step = 22500, Accuracy = [0.8637]\n",
      "Step = 23000, Accuracy = [0.8638]\n",
      "Step = 23500, Accuracy = [0.8633]\n",
      "Step = 24000, Accuracy = [0.8638]\n",
      "Step = 24500, Accuracy = [0.8643]\n",
      "Step = 25000, Accuracy = [0.8649]\n",
      "Step = 25500, Accuracy = [0.8635]\n",
      "Step = 26000, Accuracy = [0.8652]\n",
      "Step = 26500, Accuracy = [0.8652]\n",
      "Step = 27000, Accuracy = [0.8652]\n",
      "Step = 27500, Accuracy = [0.8655]\n",
      "Step = 28000, Accuracy = [0.8666]\n",
      "Step = 28500, Accuracy = [0.865]\n",
      "Step = 29000, Accuracy = [0.8646]\n",
      "Step = 29500, Accuracy = [0.8657]\n"
     ]
    }
   ],
   "source": [
    "sess = tf.Session()\n",
    "init = tf.global_variables_initializer()\n",
    "sess.run(init)\n",
    "\n",
    "for i in range(30000): #increase the number of iterations\n",
    "    train_data = mnist.train.next_batch(128)\n",
    "    _, t_loss = sess.run([step, cost], feed_dict={X:train_data[0], y:train_data[1]})\n",
    "    if i%500 == 0:\n",
    "        acc = sess.run([accuracy], feed_dict={X:mnist.test.images, y:mnist.test.labels})\n",
    "        print (\"Step = {}, Accuracy = {}\".format(i,acc))"
   ]
  },
  {
   "cell_type": "markdown",
   "metadata": {},
   "source": [
    "<p style=\"font-size:15px; font-family:verdana\"> This was very simple neural network. Please note, we can make few changes in our implementation to get accuracy more than 95%(maybe 99%). Few tweaks to get higher accuracy are- use different optimizer(i.e Adam), use dropout(to prevent overfitting), learning rate decay(see <a href=\"https://codelabs.developers.google.com/codelabs/cloud-tensorflow-mnist/#8\">this</a> for more), or use convolutional neural network(<a href=\"http://cs231n.github.io/convolutional-networks/\"> CNN Tutorial )</a>.</p>"
   ]
  },
  {
   "cell_type": "code",
   "execution_count": null,
   "metadata": {},
   "outputs": [],
   "source": []
  },
  {
   "cell_type": "code",
   "execution_count": null,
   "metadata": {},
   "outputs": [],
   "source": []
  }
 ],
 "metadata": {
  "anaconda-cloud": {},
  "kernelspec": {
   "display_name": "Python 3",
   "language": "python",
   "name": "python3"
  },
  "language_info": {
   "codemirror_mode": {
    "name": "ipython",
    "version": 3
   },
   "file_extension": ".py",
   "mimetype": "text/x-python",
   "name": "python",
   "nbconvert_exporter": "python",
   "pygments_lexer": "ipython3",
   "version": "3.6.5"
  }
 },
 "nbformat": 4,
 "nbformat_minor": 1
}
