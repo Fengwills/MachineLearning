{
 "cells": [
  {
   "cell_type": "markdown",
   "metadata": {},
   "source": [
    "# Task2: Logistic Regression"
   ]
  },
  {
   "cell_type": "markdown",
   "metadata": {},
   "source": [
    "**Task Requirements**  \n",
    "Implement simple logistic regression <font color=\"#660000\">  by yourself </font> (do not call the scikit library (LinearRegression), and implement gradient descent).   \n",
    "<ul>\n",
    "     <li> Data set: Spambase  </li>\n",
    "     <li> Feature: select the features as you want  </li>\n",
    "     <li> 10-fold Cross Validation  </li>\n",
    "     <li> Evaluate algorithm with Accuracy, Precision, Recall, F1  </li>\n",
    "</ul>\n",
    "\n"
   ]
  },
  {
   "cell_type": "code",
   "execution_count": null,
   "metadata": {},
   "outputs": [],
   "source": [
    "#Write your code here\n",
    "\n",
    "\n"
   ]
  },
  {
   "cell_type": "code",
   "execution_count": null,
   "metadata": {},
   "outputs": [],
   "source": []
  },
  {
   "cell_type": "markdown",
   "metadata": {},
   "source": [
    "**Input your results**\n",
    "\n",
    "\n",
    "|MAE|RMSE\n",
    "-|-|-\n",
    "Simple Linear Regression | 0.0 | 0.0\n"
   ]
  },
  {
   "cell_type": "code",
   "execution_count": null,
   "metadata": {},
   "outputs": [],
   "source": []
  }
 ],
 "metadata": {
  "kernelspec": {
   "display_name": "Python 3",
   "language": "python",
   "name": "python3"
  },
  "language_info": {
   "codemirror_mode": {
    "name": "ipython",
    "version": 3
   },
   "file_extension": ".py",
   "mimetype": "text/x-python",
   "name": "python",
   "nbconvert_exporter": "python",
   "pygments_lexer": "ipython3",
   "version": "3.6.5"
  }
 },
 "nbformat": 4,
 "nbformat_minor": 2
}
