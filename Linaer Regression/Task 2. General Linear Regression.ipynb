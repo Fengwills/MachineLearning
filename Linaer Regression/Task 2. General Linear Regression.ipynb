{
 "cells": [
  {
   "cell_type": "markdown",
   "metadata": {},
   "source": [
    "# Task 2: General Linear Regression"
   ]
  },
  {
   "cell_type": "markdown",
   "metadata": {},
   "source": [
    "**General Linear Regression**\n",
    "\\begin{equation}\n",
    "y= \\sum_{j=0}^n w_j \\phi_j(x)\n",
    "\\end{equation}\n",
    "\n",
    "where $\\phi_j(x)$ can be either $x_j$ for multivariate regression or one of the non linear basis we defined: such as\n",
    "\n",
    "<ul>\n",
    "       <li>Polynomial: $\\phi_j(x) = x^j$ </li>\n",
    "       <li>Gaussian: $\\phi_j(x) = \\frac{(x-\\mu_j)}{2\\sigma_j^2}$ </li>\n",
    "       <li>Sigmoid: $\\phi_j(x) = \\frac{1}{1+e^{-s_j x}} </li>\n",
    "</ul>\n",
    "\n",
    "\n",
    "\n",
    "\n",
    "\n",
    "\n"
   ]
  },
  {
   "cell_type": "markdown",
   "metadata": {},
   "source": [
    "**Task Requirements:  **  \n",
    "Implement simple linear regression by yourself (do not call the scikit library (LinearRegression), and implete gradient descent).   \n",
    "<ul>\n",
    "     <li> Data set: Kagle house price  </li>\n",
    "     <li> Model: linear regression with Polynomial, Gaussian and Sigmoid basis (***choose one in three***)\n",
    "     <li> Feature: select the features as you want  </li>\n",
    "     <li> 10-fold Cross Validation  </li>\n",
    "     <li> Evaluate algorithm with MAE and RMSE  </li>\n",
    "</ul>\n",
    "\n",
    "$$\\tag{8}\n",
    "MAE(\\hat{y}, y) = \\frac{1}{m} \\sum^m_{i=1} \\vert \\hat{y} - y \\vert\n",
    "$$\n",
    "\n",
    "$$\\tag{9}\n",
    "RMSE(\\hat{y}, y) = \\sqrt{\\frac{1}{m} \\sum^m_{i=1} (\\hat{y} - y)^2}\n",
    "$$\n",
    "where $\\hat{y}$ is the predicted value，$y$ is true value，$m$ is the number of samples\n"
   ]
  },
  {
   "cell_type": "code",
   "execution_count": null,
   "metadata": {},
   "outputs": [],
   "source": [
    "#Write your code here\n"
   ]
  },
  {
   "cell_type": "code",
   "execution_count": null,
   "metadata": {},
   "outputs": [],
   "source": []
  },
  {
   "cell_type": "markdown",
   "metadata": {},
   "source": [
    "**Input your results**\n",
    "\n",
    "Select the line corresponding to the algorithm you choose to fill in. \n",
    "\n",
    "Linear Regression|MAE|RMSE\n",
    "-|-|-\n",
    "polynomial | 0.0 | 0.0\n",
    "Gaussian | 0.0 | 0.0\n",
    "Sigmoid | 0.0 | 0.0"
   ]
  }
 ],
 "metadata": {
  "kernelspec": {
   "display_name": "Python 3",
   "language": "python",
   "name": "python3"
  },
  "language_info": {
   "codemirror_mode": {
    "name": "ipython",
    "version": 3
   },
   "file_extension": ".py",
   "mimetype": "text/x-python",
   "name": "python",
   "nbconvert_exporter": "python",
   "pygments_lexer": "ipython3",
   "version": "3.6.5"
  }
 },
 "nbformat": 4,
 "nbformat_minor": 2
}
