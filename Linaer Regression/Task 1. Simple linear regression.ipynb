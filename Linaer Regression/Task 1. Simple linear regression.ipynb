{
 "cells": [
  {
   "cell_type": "markdown",
   "metadata": {},
   "source": [
    "# Task1: Simple Linear Regression"
   ]
  },
  {
   "cell_type": "markdown",
   "metadata": {},
   "source": [
    "Basic form:\n",
    "$$\\tag{1}\n",
    "f(\\mathbf{x}) = w_1 x_1 + w_2 x_2 + ... + w_d x_d + b\n",
    "$$\n",
    "Vector form:\n",
    "$$\\tag{2}\n",
    "f(\\mathbf{x}) = \\mathbf{w}^\\mathrm{T}\\mathbf{x}+b\n",
    "$$\n",
    "where $\\mathbf{w} = (w_1; w_2; ...; w_d)$.\n",
    "\n",
    "For simple linear regression, we have\n",
    "$$\\tag{3}\n",
    "f(x) = w x + b$$"
   ]
  },
  {
   "cell_type": "markdown",
   "metadata": {},
   "source": [
    "**Task Requirements**  \n",
    "Implement simple linear regression by yourself (do not call the scikit library (LinearRegression), and implete gradient descent).   \n",
    "<ul>\n",
    "     <li> Data set: Kagle house price  </li>\n",
    "     <li> Feature: select the features as you want  </li>\n",
    "     <li> 10-fold Cross Validation  </li>\n",
    "     <li> Evaluate algorithm with MAE and RMSE  </li>\n",
    "</ul>\n",
    "\n",
    "$$\\tag{8}\n",
    "MAE(\\hat{y}, y) = \\frac{1}{m} \\sum^m_{i=1} \\vert \\hat{y} - y \\vert\n",
    "$$\n",
    "\n",
    "$$\\tag{9}\n",
    "RMSE(\\hat{y}, y) = \\sqrt{\\frac{1}{m} \\sum^m_{i=1} (\\hat{y} - y)^2}\n",
    "$$\n",
    "where $\\hat{y}$ is the predicted value，$y$ is true value，$m$ is the number of samples"
   ]
  },
  {
   "cell_type": "code",
   "execution_count": null,
   "metadata": {},
   "outputs": [],
   "source": [
    "#Write your code here"
   ]
  },
  {
   "cell_type": "code",
   "execution_count": null,
   "metadata": {},
   "outputs": [],
   "source": []
  },
  {
   "cell_type": "markdown",
   "metadata": {},
   "source": [
    "**Input your results**\n",
    "\n",
    "\n",
    "|MAE|RMSE\n",
    "-|-|-\n",
    "Simple Linear Regression | 0.0 | 0.0\n"
   ]
  },
  {
   "cell_type": "code",
   "execution_count": null,
   "metadata": {},
   "outputs": [],
   "source": []
  }
 ],
 "metadata": {
  "kernelspec": {
   "display_name": "Python 3",
   "language": "python",
   "name": "python3"
  },
  "language_info": {
   "codemirror_mode": {
    "name": "ipython",
    "version": 3
   },
   "file_extension": ".py",
   "mimetype": "text/x-python",
   "name": "python",
   "nbconvert_exporter": "python",
   "pygments_lexer": "ipython3",
   "version": "3.6.5"
  }
 },
 "nbformat": 4,
 "nbformat_minor": 2
}
